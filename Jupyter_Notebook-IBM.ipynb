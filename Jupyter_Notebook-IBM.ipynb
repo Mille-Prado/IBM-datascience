{
 "cells": [
  {
   "cell_type": "markdown",
   "metadata": {},
   "source": [
    "<center>\n",
    "    <img src=\"https://s3-api.us-geo.objectstorage.softlayer.net/cf-courses-data/CognitiveClass/Logos/organization_logo/organization_logo.png\" width=\"300\" alt=\"cognitiveclass.ai logo\"  />\n",
    "</center>\n"
   ]
  },
  {
   "cell_type": "markdown",
   "metadata": {},
   "source": [
    "# My Jupyter Notebook on IBM Watson Studio\n"
   ]
  },
  {
   "cell_type": "markdown",
   "metadata": {},
   "source": [
    "**Camille Prado**"
   ]
  },
  {
   "cell_type": "markdown",
   "metadata": {},
   "source": [
    "Biomedical cientist | Lifelong apprentice"
   ]
  },
  {
   "cell_type": "markdown",
   "metadata": {},
   "source": [
    "*I am interested in data science because I want to resolve problems in health with that knowledge.*"
   ]
  },
  {
   "cell_type": "markdown",
   "metadata": {},
   "source": [
    "### This code is supposed to convert any value of temperature in degree Celsius to Fahrenheint or vice versa. The code originally was made in portuguese for a class of studies in python."
   ]
  },
  {
   "cell_type": "code",
   "execution_count": 1,
   "metadata": {},
   "outputs": [
    {
     "name": "stdout",
     "output_type": "stream",
     "text": [
      "Converta de Celsius para Fahrenheint ou de Fahrenheint para Celsius! \n",
      "Digite uma temperatura: 25\n",
      "Para qual escala? A primeira letra deve ser maiúscula: Fahrenheint\n",
      "A temperatura em Fahrenheint é 77 graus. Que calor hein!\n"
     ]
    }
   ],
   "source": [
    "print(\"Converta de Celsius para Fahrenheint ou de Fahrenheint para Celsius! \")\n",
    "\n",
    "#inputs\n",
    "temperatura = input(\"Digite uma temperatura: \")\n",
    "converter_para = input(\"Para qual escala? A primeira letra deve ser maiúscula: \")\n",
    "\n",
    "#cálculos das conversões\n",
    "temperaturaCelsius = int((float(temperatura) - 32) * 5 / 9)\n",
    "temperaturaFahrenheint = int(float(temperatura)*9/5 + 32)\n",
    "\n",
    "#comentários sobre o clima dependentes da resposta\n",
    "if temperaturaCelsius < 25:\n",
    "\tcomentario = \"Que frescor!\"\n",
    "else:\n",
    "\tcomentario = \"Que calor hein!\"\n",
    "\n",
    "if temperaturaFahrenheint < 77:\n",
    "\tcomentario = \"Que frescor!\"\n",
    "else:\n",
    "\tcomentario = \"Que calor hein!\"\n",
    "\n",
    "#relação entre escolha da escala e resposta final\n",
    "if converter_para == \"Celsius\":\n",
    "\tprint(\"A temperatura em Celsius é\", temperaturaCelsius, \"graus.\", comentario)\n",
    "elif converter_para == \"Fahrenheint\":\n",
    "\tprint(\"A temperatura em Fahrenheint é\", temperaturaFahrenheint, \"graus.\", comentario)\n",
    "else:\n",
    "\tprint(\"Não entendi sua resposta. Não se esqueça de que a primeira letra deve ser maiúscula e verifique a ortografia ;)\")"
   ]
  },
  {
   "cell_type": "markdown",
   "metadata": {},
   "source": [
    "> Sorry for not translating the code, guys, but I ~~wasn't in the mood~~ didn't have time. \n",
    "\n",
    "Formulas used: \n",
    "\n",
    "* C = (F - 32) * 5 / 9\n",
    "\n",
    "* F = (C * 9) / 5 + 32 "
   ]
  }
 ],
 "metadata": {
  "kernelspec": {
   "display_name": "Python 3",
   "language": "python",
   "name": "python3"
  },
  "language_info": {
   "codemirror_mode": {
    "name": "ipython",
    "version": 3
   },
   "file_extension": ".py",
   "mimetype": "text/x-python",
   "name": "python",
   "nbconvert_exporter": "python",
   "pygments_lexer": "ipython3",
   "version": "3.8.5"
  }
 },
 "nbformat": 4,
 "nbformat_minor": 4
}
